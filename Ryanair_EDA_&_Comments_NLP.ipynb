{
  "nbformat": 4,
  "nbformat_minor": 0,
  "metadata": {
    "colab": {
      "provenance": [],
      "authorship_tag": "ABX9TyO3DCwMry1xHmd89R+4ozEE",
      "include_colab_link": true
    },
    "kernelspec": {
      "name": "python3",
      "display_name": "Python 3"
    },
    "language_info": {
      "name": "python"
    }
  },
  "cells": [
    {
      "cell_type": "markdown",
      "metadata": {
        "id": "view-in-github",
        "colab_type": "text"
      },
      "source": [
        "<a href=\"https://colab.research.google.com/github/som-pat/Ryanair_NLP/blob/main/Ryanair_EDA_%26_Comments_NLP.ipynb\" target=\"_parent\"><img src=\"https://colab.research.google.com/assets/colab-badge.svg\" alt=\"Open In Colab\"/></a>"
      ]
    },
    {
      "cell_type": "code",
      "execution_count": 2,
      "metadata": {
        "colab": {
          "base_uri": "https://localhost:8080/"
        },
        "id": "ZkCADMVpBtxC",
        "outputId": "caeeeeab-38fe-431a-9e82-26826b88bf20"
      },
      "outputs": [
        {
          "output_type": "stream",
          "name": "stdout",
          "text": [
            "Collecting opendatasets\n",
            "  Downloading opendatasets-0.1.22-py3-none-any.whl (15 kB)\n",
            "Requirement already satisfied: tqdm in /usr/local/lib/python3.10/dist-packages (from opendatasets) (4.66.2)\n",
            "Requirement already satisfied: kaggle in /usr/local/lib/python3.10/dist-packages (from opendatasets) (1.5.16)\n",
            "Requirement already satisfied: click in /usr/local/lib/python3.10/dist-packages (from opendatasets) (8.1.7)\n",
            "Requirement already satisfied: six>=1.10 in /usr/local/lib/python3.10/dist-packages (from kaggle->opendatasets) (1.16.0)\n",
            "Requirement already satisfied: certifi in /usr/local/lib/python3.10/dist-packages (from kaggle->opendatasets) (2024.2.2)\n",
            "Requirement already satisfied: python-dateutil in /usr/local/lib/python3.10/dist-packages (from kaggle->opendatasets) (2.8.2)\n",
            "Requirement already satisfied: requests in /usr/local/lib/python3.10/dist-packages (from kaggle->opendatasets) (2.31.0)\n",
            "Requirement already satisfied: python-slugify in /usr/local/lib/python3.10/dist-packages (from kaggle->opendatasets) (8.0.4)\n",
            "Requirement already satisfied: urllib3 in /usr/local/lib/python3.10/dist-packages (from kaggle->opendatasets) (2.0.7)\n",
            "Requirement already satisfied: bleach in /usr/local/lib/python3.10/dist-packages (from kaggle->opendatasets) (6.1.0)\n",
            "Requirement already satisfied: webencodings in /usr/local/lib/python3.10/dist-packages (from bleach->kaggle->opendatasets) (0.5.1)\n",
            "Requirement already satisfied: text-unidecode>=1.3 in /usr/local/lib/python3.10/dist-packages (from python-slugify->kaggle->opendatasets) (1.3)\n",
            "Requirement already satisfied: charset-normalizer<4,>=2 in /usr/local/lib/python3.10/dist-packages (from requests->kaggle->opendatasets) (3.3.2)\n",
            "Requirement already satisfied: idna<4,>=2.5 in /usr/local/lib/python3.10/dist-packages (from requests->kaggle->opendatasets) (3.6)\n",
            "Installing collected packages: opendatasets\n",
            "Successfully installed opendatasets-0.1.22\n",
            "Collecting contractions\n",
            "  Downloading contractions-0.1.73-py2.py3-none-any.whl (8.7 kB)\n",
            "Collecting textsearch>=0.0.21 (from contractions)\n",
            "  Downloading textsearch-0.0.24-py2.py3-none-any.whl (7.6 kB)\n",
            "Collecting anyascii (from textsearch>=0.0.21->contractions)\n",
            "  Downloading anyascii-0.3.2-py3-none-any.whl (289 kB)\n",
            "\u001b[2K     \u001b[90m━━━━━━━━━━━━━━━━━━━━━━━━━━━━━━━━━━━━━━━━\u001b[0m \u001b[32m289.9/289.9 kB\u001b[0m \u001b[31m5.9 MB/s\u001b[0m eta \u001b[36m0:00:00\u001b[0m\n",
            "\u001b[?25hCollecting pyahocorasick (from textsearch>=0.0.21->contractions)\n",
            "  Downloading pyahocorasick-2.1.0-cp310-cp310-manylinux_2_5_x86_64.manylinux1_x86_64.manylinux_2_12_x86_64.manylinux2010_x86_64.whl (110 kB)\n",
            "\u001b[2K     \u001b[90m━━━━━━━━━━━━━━━━━━━━━━━━━━━━━━━━━━━━━━━━\u001b[0m \u001b[32m110.7/110.7 kB\u001b[0m \u001b[31m11.1 MB/s\u001b[0m eta \u001b[36m0:00:00\u001b[0m\n",
            "\u001b[?25hInstalling collected packages: pyahocorasick, anyascii, textsearch, contractions\n",
            "Successfully installed anyascii-0.3.2 contractions-0.1.73 pyahocorasick-2.1.0 textsearch-0.0.24\n",
            "Requirement already satisfied: tensorflow in /usr/local/lib/python3.10/dist-packages (2.15.0)\n",
            "Requirement already satisfied: keras in /usr/local/lib/python3.10/dist-packages (2.15.0)\n",
            "Requirement already satisfied: absl-py>=1.0.0 in /usr/local/lib/python3.10/dist-packages (from tensorflow) (1.4.0)\n",
            "Requirement already satisfied: astunparse>=1.6.0 in /usr/local/lib/python3.10/dist-packages (from tensorflow) (1.6.3)\n",
            "Requirement already satisfied: flatbuffers>=23.5.26 in /usr/local/lib/python3.10/dist-packages (from tensorflow) (24.3.25)\n",
            "Requirement already satisfied: gast!=0.5.0,!=0.5.1,!=0.5.2,>=0.2.1 in /usr/local/lib/python3.10/dist-packages (from tensorflow) (0.5.4)\n",
            "Requirement already satisfied: google-pasta>=0.1.1 in /usr/local/lib/python3.10/dist-packages (from tensorflow) (0.2.0)\n",
            "Requirement already satisfied: h5py>=2.9.0 in /usr/local/lib/python3.10/dist-packages (from tensorflow) (3.9.0)\n",
            "Requirement already satisfied: libclang>=13.0.0 in /usr/local/lib/python3.10/dist-packages (from tensorflow) (18.1.1)\n",
            "Requirement already satisfied: ml-dtypes~=0.2.0 in /usr/local/lib/python3.10/dist-packages (from tensorflow) (0.2.0)\n",
            "Requirement already satisfied: numpy<2.0.0,>=1.23.5 in /usr/local/lib/python3.10/dist-packages (from tensorflow) (1.25.2)\n",
            "Requirement already satisfied: opt-einsum>=2.3.2 in /usr/local/lib/python3.10/dist-packages (from tensorflow) (3.3.0)\n",
            "Requirement already satisfied: packaging in /usr/local/lib/python3.10/dist-packages (from tensorflow) (24.0)\n",
            "Requirement already satisfied: protobuf!=4.21.0,!=4.21.1,!=4.21.2,!=4.21.3,!=4.21.4,!=4.21.5,<5.0.0dev,>=3.20.3 in /usr/local/lib/python3.10/dist-packages (from tensorflow) (3.20.3)\n",
            "Requirement already satisfied: setuptools in /usr/local/lib/python3.10/dist-packages (from tensorflow) (67.7.2)\n",
            "Requirement already satisfied: six>=1.12.0 in /usr/local/lib/python3.10/dist-packages (from tensorflow) (1.16.0)\n",
            "Requirement already satisfied: termcolor>=1.1.0 in /usr/local/lib/python3.10/dist-packages (from tensorflow) (2.4.0)\n",
            "Requirement already satisfied: typing-extensions>=3.6.6 in /usr/local/lib/python3.10/dist-packages (from tensorflow) (4.11.0)\n",
            "Requirement already satisfied: wrapt<1.15,>=1.11.0 in /usr/local/lib/python3.10/dist-packages (from tensorflow) (1.14.1)\n",
            "Requirement already satisfied: tensorflow-io-gcs-filesystem>=0.23.1 in /usr/local/lib/python3.10/dist-packages (from tensorflow) (0.36.0)\n",
            "Requirement already satisfied: grpcio<2.0,>=1.24.3 in /usr/local/lib/python3.10/dist-packages (from tensorflow) (1.62.1)\n",
            "Requirement already satisfied: tensorboard<2.16,>=2.15 in /usr/local/lib/python3.10/dist-packages (from tensorflow) (2.15.2)\n",
            "Requirement already satisfied: tensorflow-estimator<2.16,>=2.15.0 in /usr/local/lib/python3.10/dist-packages (from tensorflow) (2.15.0)\n",
            "Requirement already satisfied: wheel<1.0,>=0.23.0 in /usr/local/lib/python3.10/dist-packages (from astunparse>=1.6.0->tensorflow) (0.43.0)\n",
            "Requirement already satisfied: google-auth<3,>=1.6.3 in /usr/local/lib/python3.10/dist-packages (from tensorboard<2.16,>=2.15->tensorflow) (2.27.0)\n",
            "Requirement already satisfied: google-auth-oauthlib<2,>=0.5 in /usr/local/lib/python3.10/dist-packages (from tensorboard<2.16,>=2.15->tensorflow) (1.2.0)\n",
            "Requirement already satisfied: markdown>=2.6.8 in /usr/local/lib/python3.10/dist-packages (from tensorboard<2.16,>=2.15->tensorflow) (3.6)\n",
            "Requirement already satisfied: requests<3,>=2.21.0 in /usr/local/lib/python3.10/dist-packages (from tensorboard<2.16,>=2.15->tensorflow) (2.31.0)\n",
            "Requirement already satisfied: tensorboard-data-server<0.8.0,>=0.7.0 in /usr/local/lib/python3.10/dist-packages (from tensorboard<2.16,>=2.15->tensorflow) (0.7.2)\n",
            "Requirement already satisfied: werkzeug>=1.0.1 in /usr/local/lib/python3.10/dist-packages (from tensorboard<2.16,>=2.15->tensorflow) (3.0.2)\n",
            "Requirement already satisfied: cachetools<6.0,>=2.0.0 in /usr/local/lib/python3.10/dist-packages (from google-auth<3,>=1.6.3->tensorboard<2.16,>=2.15->tensorflow) (5.3.3)\n",
            "Requirement already satisfied: pyasn1-modules>=0.2.1 in /usr/local/lib/python3.10/dist-packages (from google-auth<3,>=1.6.3->tensorboard<2.16,>=2.15->tensorflow) (0.4.0)\n",
            "Requirement already satisfied: rsa<5,>=3.1.4 in /usr/local/lib/python3.10/dist-packages (from google-auth<3,>=1.6.3->tensorboard<2.16,>=2.15->tensorflow) (4.9)\n",
            "Requirement already satisfied: requests-oauthlib>=0.7.0 in /usr/local/lib/python3.10/dist-packages (from google-auth-oauthlib<2,>=0.5->tensorboard<2.16,>=2.15->tensorflow) (1.3.1)\n",
            "Requirement already satisfied: charset-normalizer<4,>=2 in /usr/local/lib/python3.10/dist-packages (from requests<3,>=2.21.0->tensorboard<2.16,>=2.15->tensorflow) (3.3.2)\n",
            "Requirement already satisfied: idna<4,>=2.5 in /usr/local/lib/python3.10/dist-packages (from requests<3,>=2.21.0->tensorboard<2.16,>=2.15->tensorflow) (3.6)\n",
            "Requirement already satisfied: urllib3<3,>=1.21.1 in /usr/local/lib/python3.10/dist-packages (from requests<3,>=2.21.0->tensorboard<2.16,>=2.15->tensorflow) (2.0.7)\n",
            "Requirement already satisfied: certifi>=2017.4.17 in /usr/local/lib/python3.10/dist-packages (from requests<3,>=2.21.0->tensorboard<2.16,>=2.15->tensorflow) (2024.2.2)\n",
            "Requirement already satisfied: MarkupSafe>=2.1.1 in /usr/local/lib/python3.10/dist-packages (from werkzeug>=1.0.1->tensorboard<2.16,>=2.15->tensorflow) (2.1.5)\n",
            "Requirement already satisfied: pyasn1<0.7.0,>=0.4.6 in /usr/local/lib/python3.10/dist-packages (from pyasn1-modules>=0.2.1->google-auth<3,>=1.6.3->tensorboard<2.16,>=2.15->tensorflow) (0.6.0)\n",
            "Requirement already satisfied: oauthlib>=3.0.0 in /usr/local/lib/python3.10/dist-packages (from requests-oauthlib>=0.7.0->google-auth-oauthlib<2,>=0.5->tensorboard<2.16,>=2.15->tensorflow) (3.2.2)\n"
          ]
        }
      ],
      "source": [
        "!pip install opendatasets\n",
        "!pip install contractions\n",
        "!pip install tensorflow keras"
      ]
    },
    {
      "cell_type": "code",
      "source": [
        "import opendatasets as od\n",
        "import pandas as pd\n",
        "import seaborn as sns\n",
        "import matplotlib.pyplot as plt\n",
        "import numpy as np\n",
        "from matplotlib import pyplot as plt\n",
        "import seaborn as sns\n",
        "\n",
        "\n",
        "import contractions\n",
        "import re\n",
        "import string\n",
        "import codecs\n",
        "\n",
        "import nltk\n",
        "nltk.download('wordnet')\n",
        "nltk.download('omw-1.4')\n",
        "nltk.download('averaged_perceptron_tagger')\n",
        "nltk.download('punkt')\n",
        "nltk.download('stopwords')\n",
        "\n",
        "from nltk.corpus import stopwords\n",
        "from nltk.tokenize import RegexpTokenizer\n",
        "from nltk.tokenize import word_tokenize\n",
        "from nltk.corpus import wordnet\n",
        "from nltk.stem import WordNetLemmatizer,PorterStemmer\n",
        "\n",
        "import tensorflow as tf\n",
        "from tensorflow.keras.preprocessing.sequence import pad_sequences\n",
        "from tensorflow.keras import layers\n",
        "from tensorflow.keras import Model\n",
        "from tensorflow.keras.preprocessing.text import Tokenizer\n",
        "from tensorflow.keras.models import Sequential\n",
        "from tensorflow.keras.layers import Embedding, Bidirectional, LSTM, Dense, Input, Dropout, Flatten\n",
        "from tensorflow.keras.models import load_model"
      ],
      "metadata": {
        "id": "1sgDdJ6YyAkr",
        "colab": {
          "base_uri": "https://localhost:8080/"
        },
        "outputId": "3541e65d-def4-47a2-9e82-9ed434083354"
      },
      "execution_count": 60,
      "outputs": [
        {
          "output_type": "stream",
          "name": "stderr",
          "text": [
            "[nltk_data] Downloading package wordnet to /root/nltk_data...\n",
            "[nltk_data]   Package wordnet is already up-to-date!\n",
            "[nltk_data] Downloading package omw-1.4 to /root/nltk_data...\n",
            "[nltk_data]   Package omw-1.4 is already up-to-date!\n",
            "[nltk_data] Downloading package averaged_perceptron_tagger to\n",
            "[nltk_data]     /root/nltk_data...\n",
            "[nltk_data]   Package averaged_perceptron_tagger is already up-to-\n",
            "[nltk_data]       date!\n",
            "[nltk_data] Downloading package punkt to /root/nltk_data...\n",
            "[nltk_data]   Package punkt is already up-to-date!\n",
            "[nltk_data] Downloading package stopwords to /root/nltk_data...\n",
            "[nltk_data]   Package stopwords is already up-to-date!\n"
          ]
        }
      ]
    },
    {
      "cell_type": "code",
      "source": [
        "od.download(\"https://www.kaggle.com/datasets/cristaliss/ryanair-reviews-ratings/data\")"
      ],
      "metadata": {
        "colab": {
          "base_uri": "https://localhost:8080/"
        },
        "id": "FCLVcKgZyZCJ",
        "outputId": "2b97f161-9180-42ef-c4ec-16225d0df703"
      },
      "execution_count": 4,
      "outputs": [
        {
          "output_type": "stream",
          "name": "stdout",
          "text": [
            "Please provide your Kaggle credentials to download this dataset. Learn more: http://bit.ly/kaggle-creds\n",
            "Your Kaggle username: somyapatra\n",
            "Your Kaggle Key: ··········\n",
            "Downloading ryanair-reviews-ratings.zip to ./ryanair-reviews-ratings\n"
          ]
        },
        {
          "output_type": "stream",
          "name": "stderr",
          "text": [
            "100%|██████████| 630k/630k [00:00<00:00, 26.8MB/s]"
          ]
        },
        {
          "output_type": "stream",
          "name": "stdout",
          "text": [
            "\n"
          ]
        },
        {
          "output_type": "stream",
          "name": "stderr",
          "text": [
            "\n"
          ]
        }
      ]
    },
    {
      "cell_type": "code",
      "source": [
        "ryanair = pd.read_csv('/content/ryanair-reviews-ratings/ryanair_reviews.csv')"
      ],
      "metadata": {
        "id": "Y0lT3_rnyv1n"
      },
      "execution_count": 89,
      "outputs": []
    },
    {
      "cell_type": "code",
      "source": [
        "pd.set_option('display.max_columns', None)\n",
        "ryanair.head()"
      ],
      "metadata": {
        "colab": {
          "base_uri": "https://localhost:8080/",
          "height": 660
        },
        "id": "rCYc4pNNy_Tb",
        "outputId": "4bf298dc-ccb6-44b7-de5a-0735d2f60e0e"
      },
      "execution_count": 6,
      "outputs": [
        {
          "output_type": "execute_result",
          "data": {
            "text/plain": [
              "   Unnamed: 0 Date Published  Overall Rating Passenger Country  Trip_verified  \\\n",
              "0           0     2024-02-03            10.0    United Kingdom   Not Verified   \n",
              "1           1     2024-01-26            10.0    United Kingdom  Trip Verified   \n",
              "2           2     2024-01-20            10.0    United Kingdom  Trip Verified   \n",
              "3           3     2024-01-07             6.0    United Kingdom  Trip Verified   \n",
              "4           4     2024-01-06            10.0            Israel  Trip Verified   \n",
              "\n",
              "                              Comment title  \\\n",
              "0         \"bang on time and smooth flights\"   \n",
              "1          \"Another good affordable flight\"   \n",
              "2                       “Really impressed!”   \n",
              "3          “a decent offering from Ryanair”   \n",
              "4  “cabin crew were welcoming and friendly”   \n",
              "\n",
              "                                             Comment        Aircraft  \\\n",
              "0  Flew back from Faro to London Luton Friday 2nd...  Boeing 737 900   \n",
              "1  Another good affordable flight with Ryanair. O...             NaN   \n",
              "2  Really impressed! You get what you pay for, th...  Boeing 737-800   \n",
              "3  I should like to review my flight from Faro to...      Boeing 737   \n",
              "4  Flight left the gate ahead of schedule, fare w...  Boeing 737-800   \n",
              "\n",
              "  Type Of Traveller      Seat Type     Origin     Destination     Date Flown  \\\n",
              "0    Family Leisure  Economy Class       Faro           Luton  February 2024   \n",
              "1    Couple Leisure  Economy Class    Belfast        Alicante   January 2024   \n",
              "2    Couple Leisure  Economy Class  Edinburgh  Paris Beauvais   October 2023   \n",
              "3      Solo Leisure  Economy Class       Faro       Liverpool   January 2024   \n",
              "4      Solo Leisure  Economy Class     Dublin      Manchester   January 2024   \n",
              "\n",
              "   Seat Comfort  Cabin Staff Service  Food & Beverages  Ground Service  \\\n",
              "0           4.0                  5.0               3.0             4.0   \n",
              "1           3.0                  5.0               3.0             5.0   \n",
              "2           5.0                  5.0               4.0             5.0   \n",
              "3           3.0                  2.0               1.0             3.0   \n",
              "4           4.0                  5.0               NaN             4.0   \n",
              "\n",
              "   Value For Money Recommended  Inflight Entertainment  Wifi & Connectivity  \n",
              "0              4.0         yes                     NaN                  NaN  \n",
              "1              5.0         yes                     NaN                  NaN  \n",
              "2              5.0         yes                     NaN                  NaN  \n",
              "3              3.0         yes                     NaN                  NaN  \n",
              "4              5.0         yes                     NaN                  NaN  "
            ],
            "text/html": [
              "\n",
              "  <div id=\"df-20db2746-f9b7-40bf-901b-02c8fd0501fc\" class=\"colab-df-container\">\n",
              "    <div>\n",
              "<style scoped>\n",
              "    .dataframe tbody tr th:only-of-type {\n",
              "        vertical-align: middle;\n",
              "    }\n",
              "\n",
              "    .dataframe tbody tr th {\n",
              "        vertical-align: top;\n",
              "    }\n",
              "\n",
              "    .dataframe thead th {\n",
              "        text-align: right;\n",
              "    }\n",
              "</style>\n",
              "<table border=\"1\" class=\"dataframe\">\n",
              "  <thead>\n",
              "    <tr style=\"text-align: right;\">\n",
              "      <th></th>\n",
              "      <th>Unnamed: 0</th>\n",
              "      <th>Date Published</th>\n",
              "      <th>Overall Rating</th>\n",
              "      <th>Passenger Country</th>\n",
              "      <th>Trip_verified</th>\n",
              "      <th>Comment title</th>\n",
              "      <th>Comment</th>\n",
              "      <th>Aircraft</th>\n",
              "      <th>Type Of Traveller</th>\n",
              "      <th>Seat Type</th>\n",
              "      <th>Origin</th>\n",
              "      <th>Destination</th>\n",
              "      <th>Date Flown</th>\n",
              "      <th>Seat Comfort</th>\n",
              "      <th>Cabin Staff Service</th>\n",
              "      <th>Food &amp; Beverages</th>\n",
              "      <th>Ground Service</th>\n",
              "      <th>Value For Money</th>\n",
              "      <th>Recommended</th>\n",
              "      <th>Inflight Entertainment</th>\n",
              "      <th>Wifi &amp; Connectivity</th>\n",
              "    </tr>\n",
              "  </thead>\n",
              "  <tbody>\n",
              "    <tr>\n",
              "      <th>0</th>\n",
              "      <td>0</td>\n",
              "      <td>2024-02-03</td>\n",
              "      <td>10.0</td>\n",
              "      <td>United Kingdom</td>\n",
              "      <td>Not Verified</td>\n",
              "      <td>\"bang on time and smooth flights\"</td>\n",
              "      <td>Flew back from Faro to London Luton Friday 2nd...</td>\n",
              "      <td>Boeing 737 900</td>\n",
              "      <td>Family Leisure</td>\n",
              "      <td>Economy Class</td>\n",
              "      <td>Faro</td>\n",
              "      <td>Luton</td>\n",
              "      <td>February 2024</td>\n",
              "      <td>4.0</td>\n",
              "      <td>5.0</td>\n",
              "      <td>3.0</td>\n",
              "      <td>4.0</td>\n",
              "      <td>4.0</td>\n",
              "      <td>yes</td>\n",
              "      <td>NaN</td>\n",
              "      <td>NaN</td>\n",
              "    </tr>\n",
              "    <tr>\n",
              "      <th>1</th>\n",
              "      <td>1</td>\n",
              "      <td>2024-01-26</td>\n",
              "      <td>10.0</td>\n",
              "      <td>United Kingdom</td>\n",
              "      <td>Trip Verified</td>\n",
              "      <td>\"Another good affordable flight\"</td>\n",
              "      <td>Another good affordable flight with Ryanair. O...</td>\n",
              "      <td>NaN</td>\n",
              "      <td>Couple Leisure</td>\n",
              "      <td>Economy Class</td>\n",
              "      <td>Belfast</td>\n",
              "      <td>Alicante</td>\n",
              "      <td>January 2024</td>\n",
              "      <td>3.0</td>\n",
              "      <td>5.0</td>\n",
              "      <td>3.0</td>\n",
              "      <td>5.0</td>\n",
              "      <td>5.0</td>\n",
              "      <td>yes</td>\n",
              "      <td>NaN</td>\n",
              "      <td>NaN</td>\n",
              "    </tr>\n",
              "    <tr>\n",
              "      <th>2</th>\n",
              "      <td>2</td>\n",
              "      <td>2024-01-20</td>\n",
              "      <td>10.0</td>\n",
              "      <td>United Kingdom</td>\n",
              "      <td>Trip Verified</td>\n",
              "      <td>“Really impressed!”</td>\n",
              "      <td>Really impressed! You get what you pay for, th...</td>\n",
              "      <td>Boeing 737-800</td>\n",
              "      <td>Couple Leisure</td>\n",
              "      <td>Economy Class</td>\n",
              "      <td>Edinburgh</td>\n",
              "      <td>Paris Beauvais</td>\n",
              "      <td>October 2023</td>\n",
              "      <td>5.0</td>\n",
              "      <td>5.0</td>\n",
              "      <td>4.0</td>\n",
              "      <td>5.0</td>\n",
              "      <td>5.0</td>\n",
              "      <td>yes</td>\n",
              "      <td>NaN</td>\n",
              "      <td>NaN</td>\n",
              "    </tr>\n",
              "    <tr>\n",
              "      <th>3</th>\n",
              "      <td>3</td>\n",
              "      <td>2024-01-07</td>\n",
              "      <td>6.0</td>\n",
              "      <td>United Kingdom</td>\n",
              "      <td>Trip Verified</td>\n",
              "      <td>“a decent offering from Ryanair”</td>\n",
              "      <td>I should like to review my flight from Faro to...</td>\n",
              "      <td>Boeing 737</td>\n",
              "      <td>Solo Leisure</td>\n",
              "      <td>Economy Class</td>\n",
              "      <td>Faro</td>\n",
              "      <td>Liverpool</td>\n",
              "      <td>January 2024</td>\n",
              "      <td>3.0</td>\n",
              "      <td>2.0</td>\n",
              "      <td>1.0</td>\n",
              "      <td>3.0</td>\n",
              "      <td>3.0</td>\n",
              "      <td>yes</td>\n",
              "      <td>NaN</td>\n",
              "      <td>NaN</td>\n",
              "    </tr>\n",
              "    <tr>\n",
              "      <th>4</th>\n",
              "      <td>4</td>\n",
              "      <td>2024-01-06</td>\n",
              "      <td>10.0</td>\n",
              "      <td>Israel</td>\n",
              "      <td>Trip Verified</td>\n",
              "      <td>“cabin crew were welcoming and friendly”</td>\n",
              "      <td>Flight left the gate ahead of schedule, fare w...</td>\n",
              "      <td>Boeing 737-800</td>\n",
              "      <td>Solo Leisure</td>\n",
              "      <td>Economy Class</td>\n",
              "      <td>Dublin</td>\n",
              "      <td>Manchester</td>\n",
              "      <td>January 2024</td>\n",
              "      <td>4.0</td>\n",
              "      <td>5.0</td>\n",
              "      <td>NaN</td>\n",
              "      <td>4.0</td>\n",
              "      <td>5.0</td>\n",
              "      <td>yes</td>\n",
              "      <td>NaN</td>\n",
              "      <td>NaN</td>\n",
              "    </tr>\n",
              "  </tbody>\n",
              "</table>\n",
              "</div>\n",
              "    <div class=\"colab-df-buttons\">\n",
              "\n",
              "  <div class=\"colab-df-container\">\n",
              "    <button class=\"colab-df-convert\" onclick=\"convertToInteractive('df-20db2746-f9b7-40bf-901b-02c8fd0501fc')\"\n",
              "            title=\"Convert this dataframe to an interactive table.\"\n",
              "            style=\"display:none;\">\n",
              "\n",
              "  <svg xmlns=\"http://www.w3.org/2000/svg\" height=\"24px\" viewBox=\"0 -960 960 960\">\n",
              "    <path d=\"M120-120v-720h720v720H120Zm60-500h600v-160H180v160Zm220 220h160v-160H400v160Zm0 220h160v-160H400v160ZM180-400h160v-160H180v160Zm440 0h160v-160H620v160ZM180-180h160v-160H180v160Zm440 0h160v-160H620v160Z\"/>\n",
              "  </svg>\n",
              "    </button>\n",
              "\n",
              "  <style>\n",
              "    .colab-df-container {\n",
              "      display:flex;\n",
              "      gap: 12px;\n",
              "    }\n",
              "\n",
              "    .colab-df-convert {\n",
              "      background-color: #E8F0FE;\n",
              "      border: none;\n",
              "      border-radius: 50%;\n",
              "      cursor: pointer;\n",
              "      display: none;\n",
              "      fill: #1967D2;\n",
              "      height: 32px;\n",
              "      padding: 0 0 0 0;\n",
              "      width: 32px;\n",
              "    }\n",
              "\n",
              "    .colab-df-convert:hover {\n",
              "      background-color: #E2EBFA;\n",
              "      box-shadow: 0px 1px 2px rgba(60, 64, 67, 0.3), 0px 1px 3px 1px rgba(60, 64, 67, 0.15);\n",
              "      fill: #174EA6;\n",
              "    }\n",
              "\n",
              "    .colab-df-buttons div {\n",
              "      margin-bottom: 4px;\n",
              "    }\n",
              "\n",
              "    [theme=dark] .colab-df-convert {\n",
              "      background-color: #3B4455;\n",
              "      fill: #D2E3FC;\n",
              "    }\n",
              "\n",
              "    [theme=dark] .colab-df-convert:hover {\n",
              "      background-color: #434B5C;\n",
              "      box-shadow: 0px 1px 3px 1px rgba(0, 0, 0, 0.15);\n",
              "      filter: drop-shadow(0px 1px 2px rgba(0, 0, 0, 0.3));\n",
              "      fill: #FFFFFF;\n",
              "    }\n",
              "  </style>\n",
              "\n",
              "    <script>\n",
              "      const buttonEl =\n",
              "        document.querySelector('#df-20db2746-f9b7-40bf-901b-02c8fd0501fc button.colab-df-convert');\n",
              "      buttonEl.style.display =\n",
              "        google.colab.kernel.accessAllowed ? 'block' : 'none';\n",
              "\n",
              "      async function convertToInteractive(key) {\n",
              "        const element = document.querySelector('#df-20db2746-f9b7-40bf-901b-02c8fd0501fc');\n",
              "        const dataTable =\n",
              "          await google.colab.kernel.invokeFunction('convertToInteractive',\n",
              "                                                    [key], {});\n",
              "        if (!dataTable) return;\n",
              "\n",
              "        const docLinkHtml = 'Like what you see? Visit the ' +\n",
              "          '<a target=\"_blank\" href=https://colab.research.google.com/notebooks/data_table.ipynb>data table notebook</a>'\n",
              "          + ' to learn more about interactive tables.';\n",
              "        element.innerHTML = '';\n",
              "        dataTable['output_type'] = 'display_data';\n",
              "        await google.colab.output.renderOutput(dataTable, element);\n",
              "        const docLink = document.createElement('div');\n",
              "        docLink.innerHTML = docLinkHtml;\n",
              "        element.appendChild(docLink);\n",
              "      }\n",
              "    </script>\n",
              "  </div>\n",
              "\n",
              "\n",
              "<div id=\"df-196b2a64-aa95-40db-81e0-930868efc44d\">\n",
              "  <button class=\"colab-df-quickchart\" onclick=\"quickchart('df-196b2a64-aa95-40db-81e0-930868efc44d')\"\n",
              "            title=\"Suggest charts\"\n",
              "            style=\"display:none;\">\n",
              "\n",
              "<svg xmlns=\"http://www.w3.org/2000/svg\" height=\"24px\"viewBox=\"0 0 24 24\"\n",
              "     width=\"24px\">\n",
              "    <g>\n",
              "        <path d=\"M19 3H5c-1.1 0-2 .9-2 2v14c0 1.1.9 2 2 2h14c1.1 0 2-.9 2-2V5c0-1.1-.9-2-2-2zM9 17H7v-7h2v7zm4 0h-2V7h2v10zm4 0h-2v-4h2v4z\"/>\n",
              "    </g>\n",
              "</svg>\n",
              "  </button>\n",
              "\n",
              "<style>\n",
              "  .colab-df-quickchart {\n",
              "      --bg-color: #E8F0FE;\n",
              "      --fill-color: #1967D2;\n",
              "      --hover-bg-color: #E2EBFA;\n",
              "      --hover-fill-color: #174EA6;\n",
              "      --disabled-fill-color: #AAA;\n",
              "      --disabled-bg-color: #DDD;\n",
              "  }\n",
              "\n",
              "  [theme=dark] .colab-df-quickchart {\n",
              "      --bg-color: #3B4455;\n",
              "      --fill-color: #D2E3FC;\n",
              "      --hover-bg-color: #434B5C;\n",
              "      --hover-fill-color: #FFFFFF;\n",
              "      --disabled-bg-color: #3B4455;\n",
              "      --disabled-fill-color: #666;\n",
              "  }\n",
              "\n",
              "  .colab-df-quickchart {\n",
              "    background-color: var(--bg-color);\n",
              "    border: none;\n",
              "    border-radius: 50%;\n",
              "    cursor: pointer;\n",
              "    display: none;\n",
              "    fill: var(--fill-color);\n",
              "    height: 32px;\n",
              "    padding: 0;\n",
              "    width: 32px;\n",
              "  }\n",
              "\n",
              "  .colab-df-quickchart:hover {\n",
              "    background-color: var(--hover-bg-color);\n",
              "    box-shadow: 0 1px 2px rgba(60, 64, 67, 0.3), 0 1px 3px 1px rgba(60, 64, 67, 0.15);\n",
              "    fill: var(--button-hover-fill-color);\n",
              "  }\n",
              "\n",
              "  .colab-df-quickchart-complete:disabled,\n",
              "  .colab-df-quickchart-complete:disabled:hover {\n",
              "    background-color: var(--disabled-bg-color);\n",
              "    fill: var(--disabled-fill-color);\n",
              "    box-shadow: none;\n",
              "  }\n",
              "\n",
              "  .colab-df-spinner {\n",
              "    border: 2px solid var(--fill-color);\n",
              "    border-color: transparent;\n",
              "    border-bottom-color: var(--fill-color);\n",
              "    animation:\n",
              "      spin 1s steps(1) infinite;\n",
              "  }\n",
              "\n",
              "  @keyframes spin {\n",
              "    0% {\n",
              "      border-color: transparent;\n",
              "      border-bottom-color: var(--fill-color);\n",
              "      border-left-color: var(--fill-color);\n",
              "    }\n",
              "    20% {\n",
              "      border-color: transparent;\n",
              "      border-left-color: var(--fill-color);\n",
              "      border-top-color: var(--fill-color);\n",
              "    }\n",
              "    30% {\n",
              "      border-color: transparent;\n",
              "      border-left-color: var(--fill-color);\n",
              "      border-top-color: var(--fill-color);\n",
              "      border-right-color: var(--fill-color);\n",
              "    }\n",
              "    40% {\n",
              "      border-color: transparent;\n",
              "      border-right-color: var(--fill-color);\n",
              "      border-top-color: var(--fill-color);\n",
              "    }\n",
              "    60% {\n",
              "      border-color: transparent;\n",
              "      border-right-color: var(--fill-color);\n",
              "    }\n",
              "    80% {\n",
              "      border-color: transparent;\n",
              "      border-right-color: var(--fill-color);\n",
              "      border-bottom-color: var(--fill-color);\n",
              "    }\n",
              "    90% {\n",
              "      border-color: transparent;\n",
              "      border-bottom-color: var(--fill-color);\n",
              "    }\n",
              "  }\n",
              "</style>\n",
              "\n",
              "  <script>\n",
              "    async function quickchart(key) {\n",
              "      const quickchartButtonEl =\n",
              "        document.querySelector('#' + key + ' button');\n",
              "      quickchartButtonEl.disabled = true;  // To prevent multiple clicks.\n",
              "      quickchartButtonEl.classList.add('colab-df-spinner');\n",
              "      try {\n",
              "        const charts = await google.colab.kernel.invokeFunction(\n",
              "            'suggestCharts', [key], {});\n",
              "      } catch (error) {\n",
              "        console.error('Error during call to suggestCharts:', error);\n",
              "      }\n",
              "      quickchartButtonEl.classList.remove('colab-df-spinner');\n",
              "      quickchartButtonEl.classList.add('colab-df-quickchart-complete');\n",
              "    }\n",
              "    (() => {\n",
              "      let quickchartButtonEl =\n",
              "        document.querySelector('#df-196b2a64-aa95-40db-81e0-930868efc44d button');\n",
              "      quickchartButtonEl.style.display =\n",
              "        google.colab.kernel.accessAllowed ? 'block' : 'none';\n",
              "    })();\n",
              "  </script>\n",
              "</div>\n",
              "    </div>\n",
              "  </div>\n"
            ],
            "application/vnd.google.colaboratory.intrinsic+json": {
              "type": "dataframe",
              "variable_name": "ryanair"
            }
          },
          "metadata": {},
          "execution_count": 6
        }
      ]
    },
    {
      "cell_type": "code",
      "source": [
        "print(ryanair.keys())\n",
        "ryanair.info()"
      ],
      "metadata": {
        "colab": {
          "base_uri": "https://localhost:8080/"
        },
        "id": "x0QQUO75zHIt",
        "outputId": "229a542c-6a9a-489c-d215-781648467732"
      },
      "execution_count": 7,
      "outputs": [
        {
          "output_type": "stream",
          "name": "stdout",
          "text": [
            "Index(['Unnamed: 0', 'Date Published', 'Overall Rating', 'Passenger Country',\n",
            "       'Trip_verified', 'Comment title', 'Comment', 'Aircraft',\n",
            "       'Type Of Traveller', 'Seat Type', 'Origin', 'Destination', 'Date Flown',\n",
            "       'Seat Comfort', 'Cabin Staff Service', 'Food & Beverages',\n",
            "       'Ground Service', 'Value For Money', 'Recommended',\n",
            "       'Inflight Entertainment', 'Wifi & Connectivity'],\n",
            "      dtype='object')\n",
            "<class 'pandas.core.frame.DataFrame'>\n",
            "RangeIndex: 2249 entries, 0 to 2248\n",
            "Data columns (total 21 columns):\n",
            " #   Column                  Non-Null Count  Dtype  \n",
            "---  ------                  --------------  -----  \n",
            " 0   Unnamed: 0              2249 non-null   int64  \n",
            " 1   Date Published          2249 non-null   object \n",
            " 2   Overall Rating          2119 non-null   float64\n",
            " 3   Passenger Country       2249 non-null   object \n",
            " 4   Trip_verified           1305 non-null   object \n",
            " 5   Comment title           2249 non-null   object \n",
            " 6   Comment                 2249 non-null   object \n",
            " 7   Aircraft                551 non-null    object \n",
            " 8   Type Of Traveller       1635 non-null   object \n",
            " 9   Seat Type               2249 non-null   object \n",
            " 10  Origin                  1634 non-null   object \n",
            " 11  Destination             1634 non-null   object \n",
            " 12  Date Flown              1631 non-null   object \n",
            " 13  Seat Comfort            2137 non-null   float64\n",
            " 14  Cabin Staff Service     2128 non-null   float64\n",
            " 15  Food & Beverages        1312 non-null   float64\n",
            " 16  Ground Service          1578 non-null   float64\n",
            " 17  Value For Money         2248 non-null   float64\n",
            " 18  Recommended             2249 non-null   object \n",
            " 19  Inflight Entertainment  331 non-null    float64\n",
            " 20  Wifi & Connectivity     268 non-null    float64\n",
            "dtypes: float64(8), int64(1), object(12)\n",
            "memory usage: 369.1+ KB\n"
          ]
        }
      ]
    },
    {
      "cell_type": "code",
      "source": [
        "print(ryanair.Recommended.unique())\n",
        "print(ryanair.Trip_verified.unique())\n",
        "print(set(ryanair['Type Of Traveller']))\n",
        "print(set(ryanair['Seat Type']))"
      ],
      "metadata": {
        "colab": {
          "base_uri": "https://localhost:8080/"
        },
        "id": "3jO9QnwJOD2G",
        "outputId": "9a2eb775-bc91-4c3b-d66d-a76ea81e80b2"
      },
      "execution_count": 8,
      "outputs": [
        {
          "output_type": "stream",
          "name": "stdout",
          "text": [
            "['yes' 'no']\n",
            "['Not Verified' 'Trip Verified' nan 'NotVerified' 'Verified Review'\n",
            " 'Unverified']\n",
            "{nan, 'Couple Leisure', 'Solo Leisure', 'Business', 'Family Leisure'}\n",
            "{'Economy Class', 'Business Class', 'Premium Economy', 'First Class'}\n"
          ]
        }
      ]
    },
    {
      "cell_type": "code",
      "source": [
        "ryanair.isnull().sum()"
      ],
      "metadata": {
        "colab": {
          "base_uri": "https://localhost:8080/"
        },
        "id": "J0-XbMDCJSh4",
        "outputId": "13c4c49f-9712-4d8b-b917-b2d502ec755c"
      },
      "execution_count": 9,
      "outputs": [
        {
          "output_type": "execute_result",
          "data": {
            "text/plain": [
              "Unnamed: 0                   0\n",
              "Date Published               0\n",
              "Overall Rating             130\n",
              "Passenger Country            0\n",
              "Trip_verified              944\n",
              "Comment title                0\n",
              "Comment                      0\n",
              "Aircraft                  1698\n",
              "Type Of Traveller          614\n",
              "Seat Type                    0\n",
              "Origin                     615\n",
              "Destination                615\n",
              "Date Flown                 618\n",
              "Seat Comfort               112\n",
              "Cabin Staff Service        121\n",
              "Food & Beverages           937\n",
              "Ground Service             671\n",
              "Value For Money              1\n",
              "Recommended                  0\n",
              "Inflight Entertainment    1918\n",
              "Wifi & Connectivity       1981\n",
              "dtype: int64"
            ]
          },
          "metadata": {},
          "execution_count": 9
        }
      ]
    },
    {
      "cell_type": "markdown",
      "source": [
        "Since the analysi of service provided by Ryanair would not change much by taking into consideration the amount of missing data in Inflight entertainment and Wifi & Connectivity columns. They are to be dropped.\n",
        "\n",
        "Food & Beverages is another column of concern since it also has a higher amount of missing data and it might affect the models predicitons.\n",
        "\n",
        "Since the dataset has flight data for international tours the type of aircraft does not matter much because its normalised"
      ],
      "metadata": {
        "id": "us3WzsXyM-EL"
      }
    },
    {
      "cell_type": "code",
      "source": [
        "df2 = ryanair[['Seat Comfort', 'Cabin Staff Service', 'Food & Beverages','Ground Service']].copy()\n",
        "# Nan issue\n",
        "fig = plt.figure(dpi=100, figsize=(8, 6))\n",
        "for i, column in enumerate(df2.columns, 1):\n",
        "    plt.subplot(2,2,i)\n",
        "    plt.tight_layout()\n",
        "    sns.histplot(df2[column])\n"
      ],
      "metadata": {
        "colab": {
          "base_uri": "https://localhost:8080/",
          "height": 607
        },
        "id": "zWgDk0MgZywl",
        "outputId": "73f64a48-4796-444f-dc60-5875b2a7449c"
      },
      "execution_count": 10,
      "outputs": [
        {
          "output_type": "display_data",
          "data": {
            "text/plain": [
              "<Figure size 800x600 with 4 Axes>"
            ],
            "image/png": "[encoded data removed]"
          },
          "metadata": {}
        }
      ]
    },
    {
      "cell_type": "code",
      "source": [],
      "metadata": {
        "id": "Vp_XkTLRXyHX"
      },
      "execution_count": 10,
      "outputs": []
    },
    {
      "cell_type": "code",
      "source": [
        "df2 = ryanair[['Seat Comfort', 'Cabin Staff Service', 'Food & Beverages', 'Ground Service']].copy()\n",
        "\n",
        "fig, axes = plt.subplots(2, 2, figsize=(10, 10), dpi=100)\n",
        "#For easier  Iteration over subplots\n",
        "axes = axes.flatten()\n",
        "for i, column in enumerate(df2.columns):\n",
        "    sns.histplot(df2[column], ax=axes[i])\n",
        "\n",
        "    # Add count above each bar\n",
        "    for patch in axes[i].patches:\n",
        "        if patch.get_height()>0:\n",
        "            axes[i].annotate(format(patch.get_height()),\n",
        "                                (patch.get_x() + patch.get_width() / 2., patch.get_height()),\n",
        "                                ha = 'center', va = 'center',\n",
        "                                xytext = (0, 10),\n",
        "                                textcoords = 'offset points')\n",
        "\n",
        "plt.tight_layout()\n",
        "plt.show()"
      ],
      "metadata": {
        "colab": {
          "base_uri": "https://localhost:8080/",
          "height": 1000
        },
        "id": "dr51wF_GWfO7",
        "outputId": "224e545f-dac1-4b0a-aeee-e3a796dbd586"
      },
      "execution_count": 11,
      "outputs": [
        {
          "output_type": "display_data",
          "data": {
            "text/plain": [
              "<Figure size 1000x1000 with 4 Axes>"
            ],
            "image/png": "[encoded data removed]"
          },
          "metadata": {}
        }
      ]
    },
    {
      "cell_type": "code",
      "source": [
        "gs = {}\n",
        "for i in range(len(ryanair)):\n",
        "    if ryanair['Overall Rating'][i] not in gs:\n",
        "        gs[ryanair['Overall Rating'][i]]=1\n",
        "    else:\n",
        "         gs[ryanair['Overall Rating'][i]]+=1\n",
        "\n",
        "print(gs)"
      ],
      "metadata": {
        "colab": {
          "base_uri": "https://localhost:8080/"
        },
        "id": "Jp-cypePYkpz",
        "outputId": "a40d12a3-b9d4-4a74-dfb2-a76620ff56fa"
      },
      "execution_count": 12,
      "outputs": [
        {
          "output_type": "stream",
          "name": "stdout",
          "text": [
            "{10.0: 262, 6.0: 76, 1.0: 858, 5.0: 83, 8.0: 198, 3.0: 102, 9.0: 177, 2.0: 184, 7.0: 122, 4.0: 57, nan: 1, nan: 1, nan: 1, nan: 1, nan: 1, nan: 1, nan: 1, nan: 1, nan: 1, nan: 1, nan: 1, nan: 1, nan: 1, nan: 1, nan: 1, nan: 1, nan: 1, nan: 1, nan: 1, nan: 1, nan: 1, nan: 1, nan: 1, nan: 1, nan: 1, nan: 1, nan: 1, nan: 1, nan: 1, nan: 1, nan: 1, nan: 1, nan: 1, nan: 1, nan: 1, nan: 1, nan: 1, nan: 1, nan: 1, nan: 1, nan: 1, nan: 1, nan: 1, nan: 1, nan: 1, nan: 1, nan: 1, nan: 1, nan: 1, nan: 1, nan: 1, nan: 1, nan: 1, nan: 1, nan: 1, nan: 1, nan: 1, nan: 1, nan: 1, nan: 1, nan: 1, nan: 1, nan: 1, nan: 1, nan: 1, nan: 1, nan: 1, nan: 1, nan: 1, nan: 1, nan: 1, nan: 1, nan: 1, nan: 1, nan: 1, nan: 1, nan: 1, nan: 1, nan: 1, nan: 1, nan: 1, nan: 1, nan: 1, nan: 1, nan: 1, nan: 1, nan: 1, nan: 1, nan: 1, nan: 1, nan: 1, nan: 1, nan: 1, nan: 1, nan: 1, nan: 1, nan: 1, nan: 1, nan: 1, nan: 1, nan: 1, nan: 1, nan: 1, nan: 1, nan: 1, nan: 1, nan: 1, nan: 1, nan: 1, nan: 1, nan: 1, nan: 1, nan: 1, nan: 1, nan: 1, nan: 1, nan: 1, nan: 1, nan: 1, nan: 1, nan: 1, nan: 1, nan: 1, nan: 1, nan: 1, nan: 1, nan: 1, nan: 1, nan: 1, nan: 1}\n"
          ]
        }
      ]
    },
    {
      "cell_type": "markdown",
      "source": [
        "Median Is appropriate since the columns are ratings and most of them are skewed to a particular value"
      ],
      "metadata": {
        "id": "0zAFBU7EbLBN"
      }
    },
    {
      "cell_type": "code",
      "source": [
        "Ser_Col = ['Seat Comfort', 'Cabin Staff Service', 'Food & Beverages','Ground Service']\n",
        "ryanair[Ser_Col] = ryanair[Ser_Col].fillna(ryanair[Ser_Col].median())"
      ],
      "metadata": {
        "id": "hYoAMac8fbsv"
      },
      "execution_count": 13,
      "outputs": []
    },
    {
      "cell_type": "code",
      "source": [
        "df2 = ryanair[['Seat Comfort', 'Cabin Staff Service', 'Food & Beverages', 'Ground Service']].copy()\n",
        "\n",
        "fig, axes = plt.subplots(2, 2, figsize=(10, 10), dpi=100)\n",
        "#For easier  Iteration over subplots\n",
        "axes = axes.flatten()\n",
        "for i, column in enumerate(df2.columns):\n",
        "    sns.histplot(df2[column], ax=axes[i])\n",
        "\n",
        "    # Add count above each bar\n",
        "    for patch in axes[i].patches:\n",
        "        if patch.get_height()>0:\n",
        "            axes[i].annotate(format(patch.get_height()),\n",
        "                                (patch.get_x() + patch.get_width() / 2., patch.get_height()),\n",
        "                                ha = 'center', va = 'center',\n",
        "                                xytext = (0, 10),\n",
        "                                textcoords = 'offset points')\n",
        "\n",
        "plt.tight_layout()\n",
        "plt.show()\n"
      ],
      "metadata": {
        "colab": {
          "base_uri": "https://localhost:8080/",
          "height": 1000
        },
        "id": "FOvTUHUqg2lD",
        "outputId": "9f83a654-6a94-450e-9285-db60fa04104c"
      },
      "execution_count": 14,
      "outputs": [
        {
          "output_type": "display_data",
          "data": {
            "text/plain": [
              "<Figure size 1000x1000 with 4 Axes>"
            ],
            "image/png": "[encoded data removed]"
          },
          "metadata": {}
        }
      ]
    },
    {
      "cell_type": "code",
      "source": [
        "for i in range(len(ryanair)):\n",
        "    if np.isnan(ryanair['Overall Rating'][i]):\n",
        "        ryanair['Overall Rating'][i] = ((ryanair['Seat Comfort'][i]+ ryanair['Cabin Staff Service'][i]+ ryanair['Food & Beverages'][i]+\n",
        "                                         ryanair['Ground Service'][i]+ryanair['Value For Money'][i])//5)*2\n"
      ],
      "metadata": {
        "id": "7s1Rkp5Sha-V"
      },
      "execution_count": null,
      "outputs": []
    },
    {
      "cell_type": "code",
      "source": [
        "gs = {}\n",
        "for i in range(len(ryanair)):\n",
        "    if ryanair['Seat Comfort'][i] not in gs:\n",
        "        gs[ryanair['Seat Comfort'][i]]=1\n",
        "    else:\n",
        "        gs[ryanair['Seat Comfort'][i]]+=1\n",
        "\n",
        "print(gs)"
      ],
      "metadata": {
        "colab": {
          "base_uri": "https://localhost:8080/"
        },
        "id": "x_0PbikkkRtu",
        "outputId": "30ffb930-498d-4253-fb25-b607d9645e97"
      },
      "execution_count": 16,
      "outputs": [
        {
          "output_type": "stream",
          "name": "stdout",
          "text": [
            "{4.0: 343, 3.0: 525, 5.0: 125, 2.0: 491, 1.0: 742, 0.0: 23}\n"
          ]
        }
      ]
    },
    {
      "cell_type": "code",
      "source": [
        "ryanair['Date Published'] = pd.to_datetime(ryanair['Date Published'])\n",
        "# ryanair['Recommended'] = ryanair['Recommended'].astype(bool)\n",
        "# ryanair['Inflight Entertainment'] = ryanair['Inflight Entertainment'].astype(float)\n",
        "# ryanair['Wifi & Connectivity']= ryanair['Wifi & Connectivity'].astype(float)\n",
        "ryanair['Trip_verified']=ryanair['Trip_verified'].astype(str)"
      ],
      "metadata": {
        "id": "Rz6SD7HcI9ot"
      },
      "execution_count": 17,
      "outputs": []
    },
    {
      "cell_type": "code",
      "source": [
        "for i in range(ryanair.shape[0]):\n",
        "    if ryanair['Trip_verified'].iloc[i] == 'nan':\n",
        "        ryanair['Trip_verified'].iloc[i] = 'Unknown'\n",
        "    elif ryanair['Trip_verified'].iloc[i] == 'NotVerified' or ryanair['Trip_verified'].iloc[i] == 'Unverified':\n",
        "        ryanair['Trip_verified'].iloc[i] = 'Not Verified'\n",
        "    elif ryanair['Trip_verified'].iloc[i] =='Verified Review':\n",
        "        ryanair['Trip_verified'].iloc[i] = 'Trip Verified'\n"
      ],
      "metadata": {
        "id": "LKGbO_PGQQvU"
      },
      "execution_count": null,
      "outputs": []
    },
    {
      "cell_type": "code",
      "source": [
        "cat_col = ['Aircraft', 'Type Of Traveller', 'Origin', 'Destination']\n",
        "ryanair[cat_col] = ryanair[cat_col].fillna('Unknown')"
      ],
      "metadata": {
        "id": "b1ANK-gapeL5"
      },
      "execution_count": 19,
      "outputs": []
    },
    {
      "cell_type": "code",
      "source": [
        "ryanair = ryanair.drop(columns='Unnamed: 0')"
      ],
      "metadata": {
        "id": "ztvlFlJk1B_5"
      },
      "execution_count": 20,
      "outputs": []
    },
    {
      "cell_type": "code",
      "source": [
        "ryanair.isnull().sum()"
      ],
      "metadata": {
        "colab": {
          "base_uri": "https://localhost:8080/"
        },
        "id": "k6tRvRmmreFc",
        "outputId": "bb494729-fcbe-4306-e957-10a9fb527b55"
      },
      "execution_count": 21,
      "outputs": [
        {
          "output_type": "execute_result",
          "data": {
            "text/plain": [
              "Date Published               0\n",
              "Overall Rating               0\n",
              "Passenger Country            0\n",
              "Trip_verified                0\n",
              "Comment title                0\n",
              "Comment                      0\n",
              "Aircraft                     0\n",
              "Type Of Traveller            0\n",
              "Seat Type                    0\n",
              "Origin                       0\n",
              "Destination                  0\n",
              "Date Flown                 618\n",
              "Seat Comfort                 0\n",
              "Cabin Staff Service          0\n",
              "Food & Beverages             0\n",
              "Ground Service               0\n",
              "Value For Money              1\n",
              "Recommended                  0\n",
              "Inflight Entertainment    1918\n",
              "Wifi & Connectivity       1981\n",
              "dtype: int64"
            ]
          },
          "metadata": {},
          "execution_count": 21
        }
      ]
    },
    {
      "cell_type": "markdown",
      "source": [
        "Recommendation on the basis of Seat comfort and also whether group or Solo Traveller\n"
      ],
      "metadata": {
        "id": "fV0NAabR23Qj"
      }
    },
    {
      "cell_type": "code",
      "source": [
        "#@title Overall Rating vs Recommendation\n",
        "fig = plt.figure(dpi=100, figsize=(12, 6))\n",
        "count_rec_rate = ryanair.groupby(['Overall Rating','Recommended']).size().unstack(fill_value=0)\n",
        "print(count_rec_rate)\n",
        "count_rec_rate.plot(kind='bar',stacked=False)\n",
        "plt.xlabel('Overall Rating')\n",
        "plt.ylabel('Count')\n",
        "plt.title('Recommended vs Overall Rating')\n",
        "\n",
        "# Show the plot\n",
        "plt.show()"
      ],
      "metadata": {
        "colab": {
          "base_uri": "https://localhost:8080/",
          "height": 731
        },
        "id": "bVqXkjqHQtGz",
        "outputId": "528521c6-aaa9-462c-a95a-f23bebca524e"
      },
      "execution_count": 22,
      "outputs": [
        {
          "output_type": "stream",
          "name": "stdout",
          "text": [
            "Recommended      no  yes\n",
            "Overall Rating          \n",
            "0.0              22    0\n",
            "1.0             852    6\n",
            "2.0             273    7\n",
            "3.0              95    7\n",
            "4.0              61    8\n",
            "5.0              45   38\n",
            "6.0              17   59\n",
            "7.0               4  118\n",
            "8.0               2  196\n",
            "9.0               4  173\n",
            "10.0              2  260\n"
          ]
        },
        {
          "output_type": "display_data",
          "data": {
            "text/plain": [
              "<Figure size 1200x600 with 0 Axes>"
            ]
          },
          "metadata": {}
        },
        {
          "output_type": "display_data",
          "data": {
            "text/plain": [
              "<Figure size 640x480 with 1 Axes>"
            ],
            "image/png": "[encoded data removed]"
          },
          "metadata": {}
        }
      ]
    },
    {
      "cell_type": "code",
      "source": [
        "# Recommendation and Rating on the basis of Seat type, Comfort and Group or Solo Travellers\n",
        "SeaGrou = ['Overall Rating','Seat Type','Seat Comfort','Type Of Traveller','Recommended']\n",
        "df3 = ryanair[SeaGrou].copy()\n"
      ],
      "metadata": {
        "id": "zGHXsoRu3CyN"
      },
      "execution_count": 23,
      "outputs": []
    },
    {
      "cell_type": "code",
      "source": [
        "#@title 'Seat Type' vs 'Seat Comfort'\n",
        "figsize = (10, 1.2 * len(df3['Seat Type'].unique()))\n",
        "plt.figure(figsize=figsize)\n",
        "sns.boxplot(df3,x='Seat Type',y='Seat Comfort',hue='Seat Type')\n"
      ],
      "metadata": {
        "colab": {
          "base_uri": "https://localhost:8080/",
          "height": 466
        },
        "id": "Ycqmy7aFPYOa",
        "outputId": "d595b010-fdc9-41c7-def0-7ee3a061d992"
      },
      "execution_count": 24,
      "outputs": [
        {
          "output_type": "execute_result",
          "data": {
            "text/plain": [
              "<Axes: xlabel='Seat Type', ylabel='Seat Comfort'>"
            ]
          },
          "metadata": {},
          "execution_count": 24
        },
        {
          "output_type": "display_data",
          "data": {
            "text/plain": [
              "<Figure size 1000x480 with 1 Axes>"
            ],
            "image/png": "[encoded data removed]"
          },
          "metadata": {}
        }
      ]
    },
    {
      "source": [
        "# @title Seat Type vs Type Of Traveller\n",
        "\n",
        "plt.subplots(figsize=(8, 8))\n",
        "df_2dhist = pd.DataFrame({\n",
        "    x_label: grp['Type Of Traveller'].value_counts()\n",
        "    for x_label, grp in df3.groupby('Seat Type')\n",
        "})\n",
        "sns.heatmap(df_2dhist, cmap='viridis')\n",
        "plt.xlabel('Seat Type')\n",
        "_ = plt.ylabel('Type Of Traveller')"
      ],
      "cell_type": "code",
      "execution_count": 25,
      "outputs": [
        {
          "output_type": "display_data",
          "data": {
            "text/plain": [
              "<Figure size 800x800 with 2 Axes>"
            ],
            "image/png": "[encoded data removed]"
          },
          "metadata": {}
        }
      ],
      "metadata": {
        "colab": {
          "base_uri": "https://localhost:8080/",
          "height": 696
        },
        "id": "Aqh8SO1-40y_",
        "outputId": "142907f0-c4d5-401b-ef0d-f6322212bbc3"
      }
    },
    {
      "cell_type": "code",
      "source": [
        "# @title Type of Traveller vs Overall Recommendations\n",
        "count_traveller_type = ryanair.groupby(['Type Of Traveller','Recommended']).size().unstack(fill_value=0)\n",
        "print(count_traveller_type)\n",
        "count_traveller_type.plot(kind='bar',stacked=False)\n",
        "plt.xlabel('Type Of Traveller')\n",
        "plt.ylabel('Count')\n",
        "plt.xticks(rotation=45, ha='right')\n",
        "plt.title('Recommendations of Traveller')\n",
        "\n",
        "# Show the plot\n",
        "plt.show()\n"
      ],
      "metadata": {
        "id": "5zpeu756fX_t",
        "colab": {
          "base_uri": "https://localhost:8080/",
          "height": 661
        },
        "outputId": "e7fd443d-ff96-4d4c-b7f6-c1c606ec3f27"
      },
      "execution_count": 26,
      "outputs": [
        {
          "output_type": "stream",
          "name": "stdout",
          "text": [
            "Recommended         no  yes\n",
            "Type Of Traveller          \n",
            "Business            78   48\n",
            "Couple Leisure     427  160\n",
            "Family Leisure     257  117\n",
            "Solo Leisure       329  219\n",
            "Unknown            286  328\n"
          ]
        },
        {
          "output_type": "display_data",
          "data": {
            "text/plain": [
              "<Figure size 640x480 with 1 Axes>"
            ],
            "image/png": "[encoded data removed]"
          },
          "metadata": {}
        }
      ]
    },
    {
      "cell_type": "code",
      "source": [],
      "metadata": {
        "id": "-rZ2fX3ehC-S"
      },
      "execution_count": 26,
      "outputs": []
    },
    {
      "cell_type": "code",
      "source": [
        "# @title Comment NLP\n",
        "com_df = ['Comment title', 'Comment','Recommended']\n",
        "comm_df = ryanair[com_df].copy()\n",
        "\n",
        "comm_df.head(5)"
      ],
      "metadata": {
        "id": "nUFMWK61hE8d",
        "colab": {
          "base_uri": "https://localhost:8080/",
          "height": 206
        },
        "outputId": "2e712116-34d2-4d6b-b9a6-8ef03665d201"
      },
      "execution_count": 105,
      "outputs": [
        {
          "output_type": "execute_result",
          "data": {
            "text/plain": [
              "                              Comment title  \\\n",
              "0         \"bang on time and smooth flights\"   \n",
              "1          \"Another good affordable flight\"   \n",
              "2                       “Really impressed!”   \n",
              "3          “a decent offering from Ryanair”   \n",
              "4  “cabin crew were welcoming and friendly”   \n",
              "\n",
              "                                             Comment Recommended  \n",
              "0  Flew back from Faro to London Luton Friday 2nd...         yes  \n",
              "1  Another good affordable flight with Ryanair. O...         yes  \n",
              "2  Really impressed! You get what you pay for, th...         yes  \n",
              "3  I should like to review my flight from Faro to...         yes  \n",
              "4  Flight left the gate ahead of schedule, fare w...         yes  "
            ],
            "text/html": [
              "\n",
              "  <div id=\"df-aaa9173d-3163-401a-aaf4-ae1c8a6b49dc\" class=\"colab-df-container\">\n",
              "    <div>\n",
              "<style scoped>\n",
              "    .dataframe tbody tr th:only-of-type {\n",
              "        vertical-align: middle;\n",
              "    }\n",
              "\n",
              "    .dataframe tbody tr th {\n",
              "        vertical-align: top;\n",
              "    }\n",
              "\n",
              "    .dataframe thead th {\n",
              "        text-align: right;\n",
              "    }\n",
              "</style>\n",
              "<table border=\"1\" class=\"dataframe\">\n",
              "  <thead>\n",
              "    <tr style=\"text-align: right;\">\n",
              "      <th></th>\n",
              "      <th>Comment title</th>\n",
              "      <th>Comment</th>\n",
              "      <th>Recommended</th>\n",
              "    </tr>\n",
              "  </thead>\n",
              "  <tbody>\n",
              "    <tr>\n",
              "      <th>0</th>\n",
              "      <td>\"bang on time and smooth flights\"</td>\n",
              "      <td>Flew back from Faro to London Luton Friday 2nd...</td>\n",
              "      <td>yes</td>\n",
              "    </tr>\n",
              "    <tr>\n",
              "      <th>1</th>\n",
              "      <td>\"Another good affordable flight\"</td>\n",
              "      <td>Another good affordable flight with Ryanair. O...</td>\n",
              "      <td>yes</td>\n",
              "    </tr>\n",
              "    <tr>\n",
              "      <th>2</th>\n",
              "      <td>“Really impressed!”</td>\n",
              "      <td>Really impressed! You get what you pay for, th...</td>\n",
              "      <td>yes</td>\n",
              "    </tr>\n",
              "    <tr>\n",
              "      <th>3</th>\n",
              "      <td>“a decent offering from Ryanair”</td>\n",
              "      <td>I should like to review my flight from Faro to...</td>\n",
              "      <td>yes</td>\n",
              "    </tr>\n",
              "    <tr>\n",
              "      <th>4</th>\n",
              "      <td>“cabin crew were welcoming and friendly”</td>\n",
              "      <td>Flight left the gate ahead of schedule, fare w...</td>\n",
              "      <td>yes</td>\n",
              "    </tr>\n",
              "  </tbody>\n",
              "</table>\n",
              "</div>\n",
              "    <div class=\"colab-df-buttons\">\n",
              "\n",
              "  <div class=\"colab-df-container\">\n",
              "    <button class=\"colab-df-convert\" onclick=\"convertToInteractive('df-aaa9173d-3163-401a-aaf4-ae1c8a6b49dc')\"\n",
              "            title=\"Convert this dataframe to an interactive table.\"\n",
              "            style=\"display:none;\">\n",
              "\n",
              "  <svg xmlns=\"http://www.w3.org/2000/svg\" height=\"24px\" viewBox=\"0 -960 960 960\">\n",
              "    <path d=\"M120-120v-720h720v720H120Zm60-500h600v-160H180v160Zm220 220h160v-160H400v160Zm0 220h160v-160H400v160ZM180-400h160v-160H180v160Zm440 0h160v-160H620v160ZM180-180h160v-160H180v160Zm440 0h160v-160H620v160Z\"/>\n",
              "  </svg>\n",
              "    </button>\n",
              "\n",
              "  <style>\n",
              "    .colab-df-container {\n",
              "      display:flex;\n",
              "      gap: 12px;\n",
              "    }\n",
              "\n",
              "    .colab-df-convert {\n",
              "      background-color: #E8F0FE;\n",
              "      border: none;\n",
              "      border-radius: 50%;\n",
              "      cursor: pointer;\n",
              "      display: none;\n",
              "      fill: #1967D2;\n",
              "      height: 32px;\n",
              "      padding: 0 0 0 0;\n",
              "      width: 32px;\n",
              "    }\n",
              "\n",
              "    .colab-df-convert:hover {\n",
              "      background-color: #E2EBFA;\n",
              "      box-shadow: 0px 1px 2px rgba(60, 64, 67, 0.3), 0px 1px 3px 1px rgba(60, 64, 67, 0.15);\n",
              "      fill: #174EA6;\n",
              "    }\n",
              "\n",
              "    .colab-df-buttons div {\n",
              "      margin-bottom: 4px;\n",
              "    }\n",
              "\n",
              "    [theme=dark] .colab-df-convert {\n",
              "      background-color: #3B4455;\n",
              "      fill: #D2E3FC;\n",
              "    }\n",
              "\n",
              "    [theme=dark] .colab-df-convert:hover {\n",
              "      background-color: #434B5C;\n",
              "      box-shadow: 0px 1px 3px 1px rgba(0, 0, 0, 0.15);\n",
              "      filter: drop-shadow(0px 1px 2px rgba(0, 0, 0, 0.3));\n",
              "      fill: #FFFFFF;\n",
              "    }\n",
              "  </style>\n",
              "\n",
              "    <script>\n",
              "      const buttonEl =\n",
              "        document.querySelector('#df-aaa9173d-3163-401a-aaf4-ae1c8a6b49dc button.colab-df-convert');\n",
              "      buttonEl.style.display =\n",
              "        google.colab.kernel.accessAllowed ? 'block' : 'none';\n",
              "\n",
              "      async function convertToInteractive(key) {\n",
              "        const element = document.querySelector('#df-aaa9173d-3163-401a-aaf4-ae1c8a6b49dc');\n",
              "        const dataTable =\n",
              "          await google.colab.kernel.invokeFunction('convertToInteractive',\n",
              "                                                    [key], {});\n",
              "        if (!dataTable) return;\n",
              "\n",
              "        const docLinkHtml = 'Like what you see? Visit the ' +\n",
              "          '<a target=\"_blank\" href=https://colab.research.google.com/notebooks/data_table.ipynb>data table notebook</a>'\n",
              "          + ' to learn more about interactive tables.';\n",
              "        element.innerHTML = '';\n",
              "        dataTable['output_type'] = 'display_data';\n",
              "        await google.colab.output.renderOutput(dataTable, element);\n",
              "        const docLink = document.createElement('div');\n",
              "        docLink.innerHTML = docLinkHtml;\n",
              "        element.appendChild(docLink);\n",
              "      }\n",
              "    </script>\n",
              "  </div>\n",
              "\n",
              "\n",
              "<div id=\"df-c6f09a1d-1c82-46dd-a10f-fa8ebba32e1f\">\n",
              "  <button class=\"colab-df-quickchart\" onclick=\"quickchart('df-c6f09a1d-1c82-46dd-a10f-fa8ebba32e1f')\"\n",
              "            title=\"Suggest charts\"\n",
              "            style=\"display:none;\">\n",
              "\n",
              "<svg xmlns=\"http://www.w3.org/2000/svg\" height=\"24px\"viewBox=\"0 0 24 24\"\n",
              "     width=\"24px\">\n",
              "    <g>\n",
              "        <path d=\"M19 3H5c-1.1 0-2 .9-2 2v14c0 1.1.9 2 2 2h14c1.1 0 2-.9 2-2V5c0-1.1-.9-2-2-2zM9 17H7v-7h2v7zm4 0h-2V7h2v10zm4 0h-2v-4h2v4z\"/>\n",
              "    </g>\n",
              "</svg>\n",
              "  </button>\n",
              "\n",
              "<style>\n",
              "  .colab-df-quickchart {\n",
              "      --bg-color: #E8F0FE;\n",
              "      --fill-color: #1967D2;\n",
              "      --hover-bg-color: #E2EBFA;\n",
              "      --hover-fill-color: #174EA6;\n",
              "      --disabled-fill-color: #AAA;\n",
              "      --disabled-bg-color: #DDD;\n",
              "  }\n",
              "\n",
              "  [theme=dark] .colab-df-quickchart {\n",
              "      --bg-color: #3B4455;\n",
              "      --fill-color: #D2E3FC;\n",
              "      --hover-bg-color: #434B5C;\n",
              "      --hover-fill-color: #FFFFFF;\n",
              "      --disabled-bg-color: #3B4455;\n",
              "      --disabled-fill-color: #666;\n",
              "  }\n",
              "\n",
              "  .colab-df-quickchart {\n",
              "    background-color: var(--bg-color);\n",
              "    border: none;\n",
              "    border-radius: 50%;\n",
              "    cursor: pointer;\n",
              "    display: none;\n",
              "    fill: var(--fill-color);\n",
              "    height: 32px;\n",
              "    padding: 0;\n",
              "    width: 32px;\n",
              "  }\n",
              "\n",
              "  .colab-df-quickchart:hover {\n",
              "    background-color: var(--hover-bg-color);\n",
              "    box-shadow: 0 1px 2px rgba(60, 64, 67, 0.3), 0 1px 3px 1px rgba(60, 64, 67, 0.15);\n",
              "    fill: var(--button-hover-fill-color);\n",
              "  }\n",
              "\n",
              "  .colab-df-quickchart-complete:disabled,\n",
              "  .colab-df-quickchart-complete:disabled:hover {\n",
              "    background-color: var(--disabled-bg-color);\n",
              "    fill: var(--disabled-fill-color);\n",
              "    box-shadow: none;\n",
              "  }\n",
              "\n",
              "  .colab-df-spinner {\n",
              "    border: 2px solid var(--fill-color);\n",
              "    border-color: transparent;\n",
              "    border-bottom-color: var(--fill-color);\n",
              "    animation:\n",
              "      spin 1s steps(1) infinite;\n",
              "  }\n",
              "\n",
              "  @keyframes spin {\n",
              "    0% {\n",
              "      border-color: transparent;\n",
              "      border-bottom-color: var(--fill-color);\n",
              "      border-left-color: var(--fill-color);\n",
              "    }\n",
              "    20% {\n",
              "      border-color: transparent;\n",
              "      border-left-color: var(--fill-color);\n",
              "      border-top-color: var(--fill-color);\n",
              "    }\n",
              "    30% {\n",
              "      border-color: transparent;\n",
              "      border-left-color: var(--fill-color);\n",
              "      border-top-color: var(--fill-color);\n",
              "      border-right-color: var(--fill-color);\n",
              "    }\n",
              "    40% {\n",
              "      border-color: transparent;\n",
              "      border-right-color: var(--fill-color);\n",
              "      border-top-color: var(--fill-color);\n",
              "    }\n",
              "    60% {\n",
              "      border-color: transparent;\n",
              "      border-right-color: var(--fill-color);\n",
              "    }\n",
              "    80% {\n",
              "      border-color: transparent;\n",
              "      border-right-color: var(--fill-color);\n",
              "      border-bottom-color: var(--fill-color);\n",
              "    }\n",
              "    90% {\n",
              "      border-color: transparent;\n",
              "      border-bottom-color: var(--fill-color);\n",
              "    }\n",
              "  }\n",
              "</style>\n",
              "\n",
              "  <script>\n",
              "    async function quickchart(key) {\n",
              "      const quickchartButtonEl =\n",
              "        document.querySelector('#' + key + ' button');\n",
              "      quickchartButtonEl.disabled = true;  // To prevent multiple clicks.\n",
              "      quickchartButtonEl.classList.add('colab-df-spinner');\n",
              "      try {\n",
              "        const charts = await google.colab.kernel.invokeFunction(\n",
              "            'suggestCharts', [key], {});\n",
              "      } catch (error) {\n",
              "        console.error('Error during call to suggestCharts:', error);\n",
              "      }\n",
              "      quickchartButtonEl.classList.remove('colab-df-spinner');\n",
              "      quickchartButtonEl.classList.add('colab-df-quickchart-complete');\n",
              "    }\n",
              "    (() => {\n",
              "      let quickchartButtonEl =\n",
              "        document.querySelector('#df-c6f09a1d-1c82-46dd-a10f-fa8ebba32e1f button');\n",
              "      quickchartButtonEl.style.display =\n",
              "        google.colab.kernel.accessAllowed ? 'block' : 'none';\n",
              "    })();\n",
              "  </script>\n",
              "</div>\n",
              "    </div>\n",
              "  </div>\n"
            ],
            "application/vnd.google.colaboratory.intrinsic+json": {
              "type": "dataframe",
              "variable_name": "comm_df",
              "summary": "{\n  \"name\": \"comm_df\",\n  \"rows\": 2249,\n  \"fields\": [\n    {\n      \"column\": \"Comment title\",\n      \"properties\": {\n        \"dtype\": \"string\",\n        \"num_unique_values\": 1511,\n        \"samples\": [\n          \"\\\"worst customer care\\\"\",\n          \"\\\"unprofessional and disrespectful\\\"\",\n          \"\\\"most annoying airline\\\"\"\n        ],\n        \"semantic_type\": \"\",\n        \"description\": \"\"\n      }\n    },\n    {\n      \"column\": \"Comment\",\n      \"properties\": {\n        \"dtype\": \"string\",\n        \"num_unique_values\": 2249,\n        \"samples\": [\n          \"Just been on holiday to Mallorca flew there with jet2 they were hassle free no problems and back with Ryanair. The aircraft Ryanair had us in felt old it looked like an old military transport inside. Staff were miserable especially at boarding when I tried helping my grandma put her hand luggage in the metal box sizer she got all uppity because I was blocking other passengers! I am never flying Ryanair again.\",\n          \"We had reservations on Ryanair flight FR1393 flying from Oslo to Stansted on September 6 this year. I tried to check in on their website before the two hour time limit but it showed that we did not have reservations for this flight. We went to the airport anyway and were forced to pay the 55 Euro fee each for checking in there. Several people that we talked to while waiting in line had had the same experience that morning with the Ryanair website. I have contacted Ryanair customer service (query number 5917114) and have been told that they will not refund the 55 Euro fees. I will never fly Ryanair again.\",\n          \"Flew Ryanair many times however most common route I fly is KIR-LTN. Most recent flight SNN-SXF. Ryanair is a very good airline in my opinion. Despite flying to airports that only the CIA has heard of and advertising the airport for the capital city of Slovenia (it's Bratislava) as Vienna it's very handy. I use it often and I have never had a problem with Ryanair. Even with hidden fees tickets for me seem cheaper than Aer Lingus. The aircraft are clean but still somewhat dark and gloomy and the seats are uncomfortable horrible on a late-night flights or dawn when you try and catch some sleep however still possible. The snacks and drinks on board are still a reasonable price and the crew are friendly. The toilets are excellent being bright and clean. Ryanair gets the job done.\"\n        ],\n        \"semantic_type\": \"\",\n        \"description\": \"\"\n      }\n    },\n    {\n      \"column\": \"Recommended\",\n      \"properties\": {\n        \"dtype\": \"category\",\n        \"num_unique_values\": 2,\n        \"samples\": [\n          \"no\",\n          \"yes\"\n        ],\n        \"semantic_type\": \"\",\n        \"description\": \"\"\n      }\n    }\n  ]\n}"
            }
          },
          "metadata": {},
          "execution_count": 105
        }
      ]
    },
    {
      "cell_type": "code",
      "source": [
        "def expand_contractions(comment):\n",
        "    # Expand shortened version of phrases or words\n",
        "    comment = contractions.fix(comment)\n",
        "\n",
        "    return comment"
      ],
      "metadata": {
        "id": "aATK28zxyThY"
      },
      "execution_count": 106,
      "outputs": []
    },
    {
      "cell_type": "code",
      "source": [
        "def replace_numbers(comment):\n",
        "    # Removal of numbers from tweet\n",
        "    return re.sub('[0-9]+', '', comment)"
      ],
      "metadata": {
        "id": "RcUuI4mZyAto"
      },
      "execution_count": 107,
      "outputs": []
    },
    {
      "cell_type": "code",
      "source": [
        "def remove_ordinals(comment):\n",
        "    # Define a regular expression pattern to match ordinal numbers\n",
        "    ordinal_pattern = r'\\b\\d+(st|nd|rd|th)\\b'\n",
        "    # Replace ordinal numbers with an empty string\n",
        "    cleaned_text = re.sub(ordinal_pattern, '', comment)\n",
        "    return cleaned_text"
      ],
      "metadata": {
        "id": "paOnAHZXuucB"
      },
      "execution_count": 108,
      "outputs": []
    },
    {
      "cell_type": "code",
      "source": [
        "nonstandard_dict = {\n",
        "    'aint': 'am not',\n",
        "    'gonna': 'going to',\n",
        "    'gotta': 'got to',\n",
        "    'hafta': 'have to',\n",
        "    'wanna': 'want to',\n",
        "    'coulda': 'could have',\n",
        "    'woulda': 'would have',\n",
        "    'shoulda': 'should have',\n",
        "    'mighta': 'might have',\n",
        "    'musta': 'must have',\n",
        "    'ain\\'t': 'am not',\n",
        "    'kinda': 'kind of',\n",
        "    'sorta': 'sort of'\n",
        "}"
      ],
      "metadata": {
        "id": "vlNSZSyLxc7J"
      },
      "execution_count": 109,
      "outputs": []
    },
    {
      "cell_type": "code",
      "source": [
        "def replace_nonstandard(comment, nonstandard_dict):\n",
        "    # To replace slag words which are non-english words to their corresponding english words\n",
        "    nonstd_comment = []\n",
        "    for word in comment.split():\n",
        "        if word in nonstandard_dict:\n",
        "            nonstd_comment.append(nonstandard_dict[word])\n",
        "        else:\n",
        "            nonstd_comment.append(word)\n",
        "\n",
        "    return ' '.join(nonstd_comment)"
      ],
      "metadata": {
        "id": "wl5ER0wgxmpH"
      },
      "execution_count": 110,
      "outputs": []
    },
    {
      "cell_type": "code",
      "source": [
        "# Remove punctuations\n",
        "punctuations = string.punctuation\n",
        "def remove_punctuations(comment):\n",
        "    # Removal of punctuations from tweets\n",
        "    return comment.translate(str.maketrans('', '', punctuations))"
      ],
      "metadata": {
        "id": "BrBACHq6vkze"
      },
      "execution_count": 111,
      "outputs": []
    },
    {
      "cell_type": "code",
      "source": [
        "StopWords_list = stopwords.words('english')\n",
        "def remove_stopwords(comment):\n",
        "    # Removal of stopwords from tweets which have no or less meaning to reduce noise\n",
        "    return \" \".join([word for word in str(comment).split() if word not in StopWords_list])"
      ],
      "metadata": {
        "id": "LAqRPaKb0qTC"
      },
      "execution_count": 112,
      "outputs": []
    },
    {
      "cell_type": "code",
      "source": [
        "def tokenizer(comment):\n",
        "    tokenizer = RegexpTokenizer(r'\\w+|[^\\w\\s]')\n",
        "    return tokenizer.tokenize(comment)\n"
      ],
      "metadata": {
        "id": "uE0ztHRXuof3"
      },
      "execution_count": 113,
      "outputs": []
    },
    {
      "cell_type": "code",
      "source": [
        "# Stem = PorterStemmer()\n",
        "# def stemmer(comment):\n",
        "#     return \" \".join([Stem.stem(w) for w in comment])\n"
      ],
      "metadata": {
        "id": "o8CgG70HtSWk"
      },
      "execution_count": 114,
      "outputs": []
    },
    {
      "cell_type": "code",
      "source": [
        "lemmatizer = WordNetLemmatizer()\n",
        "wordnet_map = {\"N\":wordnet.NOUN, \"V\":wordnet.VERB, \"J\":wordnet.ADJ, \"R\":wordnet.ADV}\n",
        "def lemmatize_words(comment):\n",
        "  # Tag each word in the tweet with its corresponding part-of-speech.\n",
        "  pos_tagged_comment = nltk.pos_tag(comment.split())\n",
        "  # lemmatizer is applied to each word in the tweet using the WordNet POS tag. If the POS is not found in the wordnet dict, the default tag used is NOUN.\n",
        "  return \" \".join([lemmatizer.lemmatize(word, wordnet_map.get(pos[0], wordnet.NOUN)) for word, pos in pos_tagged_comment])"
      ],
      "metadata": {
        "id": "COpUy7Dk2Lxs"
      },
      "execution_count": 115,
      "outputs": []
    },
    {
      "cell_type": "code",
      "source": [
        "def preprocessing_comments(comment):\n",
        "    comment = expand_contractions(comment)\n",
        "    comment = remove_ordinals(comment)\n",
        "    comment = replace_numbers(comment)\n",
        "    comment = replace_nonstandard(comment, nonstandard_dict)\n",
        "    comment = remove_punctuations(comment)\n",
        "    comment = comment.lower()\n",
        "    comment = remove_stopwords(comment)\n",
        "    # comment = stemmer(comment)\n",
        "    comment = lemmatize_words(comment)\n",
        "\n",
        "    return comment"
      ],
      "metadata": {
        "id": "cG096WAM32Qr"
      },
      "execution_count": 116,
      "outputs": []
    },
    {
      "cell_type": "code",
      "source": [
        "comm_df['Comment title'] = comm_df['Comment title'].apply(lambda x: preprocessing_comments(x))\n",
        "comm_df['Comment'] = comm_df['Comment'].apply(lambda x: preprocessing_comments(x))"
      ],
      "metadata": {
        "id": "EDwRaQre32LF"
      },
      "execution_count": 117,
      "outputs": []
    },
    {
      "cell_type": "code",
      "source": [
        "comm_df.head(10)"
      ],
      "metadata": {
        "colab": {
          "base_uri": "https://localhost:8080/",
          "height": 363
        },
        "id": "zMhDjOzI31_a",
        "outputId": "b5b888cd-27e2-4375-dbcd-1b77f4872378"
      },
      "execution_count": 118,
      "outputs": [
        {
          "output_type": "execute_result",
          "data": {
            "text/plain": [
              "                     Comment title  \\\n",
              "0          bang time smooth flight   \n",
              "1   another good affordable flight   \n",
              "2               “really impressed”   \n",
              "3      “a decent offering ryanair”   \n",
              "4    “cabin crew welcome friendly”   \n",
              "5        close online checkin hour   \n",
              "6                really good value   \n",
              "7                 ask pay backpack   \n",
              "8  ground service staff really bad   \n",
              "9              make u pay show fee   \n",
              "\n",
              "                                             Comment Recommended  \n",
              "0  flew back faro london luton friday february ry...         yes  \n",
              "1  another good affordable flight ryanair time pl...         yes  \n",
              "2  really impressed get pay flight cost £ seat so...         yes  \n",
              "3  like review flight faro liverpool ryanair book...         yes  \n",
              "4  flight leave gate ahead schedule fare really c...         yes  \n",
              "5  book fight copenhagen poland though bookingcom...          no  \n",
              "6  flight operate malta air always find cabin cre...         yes  \n",
              "7  staff rude manner let alone professional backp...          no  \n",
              "8  ryanair ground service staff really bad proble...          no  \n",
              "9  want check online night flight nationality lis...          no  "
            ],
            "text/html": [
              "\n",
              "  <div id=\"df-e24c547c-6a1e-4ea8-aa3b-83542489f674\" class=\"colab-df-container\">\n",
              "    <div>\n",
              "<style scoped>\n",
              "    .dataframe tbody tr th:only-of-type {\n",
              "        vertical-align: middle;\n",
              "    }\n",
              "\n",
              "    .dataframe tbody tr th {\n",
              "        vertical-align: top;\n",
              "    }\n",
              "\n",
              "    .dataframe thead th {\n",
              "        text-align: right;\n",
              "    }\n",
              "</style>\n",
              "<table border=\"1\" class=\"dataframe\">\n",
              "  <thead>\n",
              "    <tr style=\"text-align: right;\">\n",
              "      <th></th>\n",
              "      <th>Comment title</th>\n",
              "      <th>Comment</th>\n",
              "      <th>Recommended</th>\n",
              "    </tr>\n",
              "  </thead>\n",
              "  <tbody>\n",
              "    <tr>\n",
              "      <th>0</th>\n",
              "      <td>bang time smooth flight</td>\n",
              "      <td>flew back faro london luton friday february ry...</td>\n",
              "      <td>yes</td>\n",
              "    </tr>\n",
              "    <tr>\n",
              "      <th>1</th>\n",
              "      <td>another good affordable flight</td>\n",
              "      <td>another good affordable flight ryanair time pl...</td>\n",
              "      <td>yes</td>\n",
              "    </tr>\n",
              "    <tr>\n",
              "      <th>2</th>\n",
              "      <td>“really impressed”</td>\n",
              "      <td>really impressed get pay flight cost £ seat so...</td>\n",
              "      <td>yes</td>\n",
              "    </tr>\n",
              "    <tr>\n",
              "      <th>3</th>\n",
              "      <td>“a decent offering ryanair”</td>\n",
              "      <td>like review flight faro liverpool ryanair book...</td>\n",
              "      <td>yes</td>\n",
              "    </tr>\n",
              "    <tr>\n",
              "      <th>4</th>\n",
              "      <td>“cabin crew welcome friendly”</td>\n",
              "      <td>flight leave gate ahead schedule fare really c...</td>\n",
              "      <td>yes</td>\n",
              "    </tr>\n",
              "    <tr>\n",
              "      <th>5</th>\n",
              "      <td>close online checkin hour</td>\n",
              "      <td>book fight copenhagen poland though bookingcom...</td>\n",
              "      <td>no</td>\n",
              "    </tr>\n",
              "    <tr>\n",
              "      <th>6</th>\n",
              "      <td>really good value</td>\n",
              "      <td>flight operate malta air always find cabin cre...</td>\n",
              "      <td>yes</td>\n",
              "    </tr>\n",
              "    <tr>\n",
              "      <th>7</th>\n",
              "      <td>ask pay backpack</td>\n",
              "      <td>staff rude manner let alone professional backp...</td>\n",
              "      <td>no</td>\n",
              "    </tr>\n",
              "    <tr>\n",
              "      <th>8</th>\n",
              "      <td>ground service staff really bad</td>\n",
              "      <td>ryanair ground service staff really bad proble...</td>\n",
              "      <td>no</td>\n",
              "    </tr>\n",
              "    <tr>\n",
              "      <th>9</th>\n",
              "      <td>make u pay show fee</td>\n",
              "      <td>want check online night flight nationality lis...</td>\n",
              "      <td>no</td>\n",
              "    </tr>\n",
              "  </tbody>\n",
              "</table>\n",
              "</div>\n",
              "    <div class=\"colab-df-buttons\">\n",
              "\n",
              "  <div class=\"colab-df-container\">\n",
              "    <button class=\"colab-df-convert\" onclick=\"convertToInteractive('df-e24c547c-6a1e-4ea8-aa3b-83542489f674')\"\n",
              "            title=\"Convert this dataframe to an interactive table.\"\n",
              "            style=\"display:none;\">\n",
              "\n",
              "  <svg xmlns=\"http://www.w3.org/2000/svg\" height=\"24px\" viewBox=\"0 -960 960 960\">\n",
              "    <path d=\"M120-120v-720h720v720H120Zm60-500h600v-160H180v160Zm220 220h160v-160H400v160Zm0 220h160v-160H400v160ZM180-400h160v-160H180v160Zm440 0h160v-160H620v160ZM180-180h160v-160H180v160Zm440 0h160v-160H620v160Z\"/>\n",
              "  </svg>\n",
              "    </button>\n",
              "\n",
              "  <style>\n",
              "    .colab-df-container {\n",
              "      display:flex;\n",
              "      gap: 12px;\n",
              "    }\n",
              "\n",
              "    .colab-df-convert {\n",
              "      background-color: #E8F0FE;\n",
              "      border: none;\n",
              "      border-radius: 50%;\n",
              "      cursor: pointer;\n",
              "      display: none;\n",
              "      fill: #1967D2;\n",
              "      height: 32px;\n",
              "      padding: 0 0 0 0;\n",
              "      width: 32px;\n",
              "    }\n",
              "\n",
              "    .colab-df-convert:hover {\n",
              "      background-color: #E2EBFA;\n",
              "      box-shadow: 0px 1px 2px rgba(60, 64, 67, 0.3), 0px 1px 3px 1px rgba(60, 64, 67, 0.15);\n",
              "      fill: #174EA6;\n",
              "    }\n",
              "\n",
              "    .colab-df-buttons div {\n",
              "      margin-bottom: 4px;\n",
              "    }\n",
              "\n",
              "    [theme=dark] .colab-df-convert {\n",
              "      background-color: #3B4455;\n",
              "      fill: #D2E3FC;\n",
              "    }\n",
              "\n",
              "    [theme=dark] .colab-df-convert:hover {\n",
              "      background-color: #434B5C;\n",
              "      box-shadow: 0px 1px 3px 1px rgba(0, 0, 0, 0.15);\n",
              "      filter: drop-shadow(0px 1px 2px rgba(0, 0, 0, 0.3));\n",
              "      fill: #FFFFFF;\n",
              "    }\n",
              "  </style>\n",
              "\n",
              "    <script>\n",
              "      const buttonEl =\n",
              "        document.querySelector('#df-e24c547c-6a1e-4ea8-aa3b-83542489f674 button.colab-df-convert');\n",
              "      buttonEl.style.display =\n",
              "        google.colab.kernel.accessAllowed ? 'block' : 'none';\n",
              "\n",
              "      async function convertToInteractive(key) {\n",
              "        const element = document.querySelector('#df-e24c547c-6a1e-4ea8-aa3b-83542489f674');\n",
              "        const dataTable =\n",
              "          await google.colab.kernel.invokeFunction('convertToInteractive',\n",
              "                                                    [key], {});\n",
              "        if (!dataTable) return;\n",
              "\n",
              "        const docLinkHtml = 'Like what you see? Visit the ' +\n",
              "          '<a target=\"_blank\" href=https://colab.research.google.com/notebooks/data_table.ipynb>data table notebook</a>'\n",
              "          + ' to learn more about interactive tables.';\n",
              "        element.innerHTML = '';\n",
              "        dataTable['output_type'] = 'display_data';\n",
              "        await google.colab.output.renderOutput(dataTable, element);\n",
              "        const docLink = document.createElement('div');\n",
              "        docLink.innerHTML = docLinkHtml;\n",
              "        element.appendChild(docLink);\n",
              "      }\n",
              "    </script>\n",
              "  </div>\n",
              "\n",
              "\n",
              "<div id=\"df-5ca58f35-fd0b-4b37-9d60-25551b1221ac\">\n",
              "  <button class=\"colab-df-quickchart\" onclick=\"quickchart('df-5ca58f35-fd0b-4b37-9d60-25551b1221ac')\"\n",
              "            title=\"Suggest charts\"\n",
              "            style=\"display:none;\">\n",
              "\n",
              "<svg xmlns=\"http://www.w3.org/2000/svg\" height=\"24px\"viewBox=\"0 0 24 24\"\n",
              "     width=\"24px\">\n",
              "    <g>\n",
              "        <path d=\"M19 3H5c-1.1 0-2 .9-2 2v14c0 1.1.9 2 2 2h14c1.1 0 2-.9 2-2V5c0-1.1-.9-2-2-2zM9 17H7v-7h2v7zm4 0h-2V7h2v10zm4 0h-2v-4h2v4z\"/>\n",
              "    </g>\n",
              "</svg>\n",
              "  </button>\n",
              "\n",
              "<style>\n",
              "  .colab-df-quickchart {\n",
              "      --bg-color: #E8F0FE;\n",
              "      --fill-color: #1967D2;\n",
              "      --hover-bg-color: #E2EBFA;\n",
              "      --hover-fill-color: #174EA6;\n",
              "      --disabled-fill-color: #AAA;\n",
              "      --disabled-bg-color: #DDD;\n",
              "  }\n",
              "\n",
              "  [theme=dark] .colab-df-quickchart {\n",
              "      --bg-color: #3B4455;\n",
              "      --fill-color: #D2E3FC;\n",
              "      --hover-bg-color: #434B5C;\n",
              "      --hover-fill-color: #FFFFFF;\n",
              "      --disabled-bg-color: #3B4455;\n",
              "      --disabled-fill-color: #666;\n",
              "  }\n",
              "\n",
              "  .colab-df-quickchart {\n",
              "    background-color: var(--bg-color);\n",
              "    border: none;\n",
              "    border-radius: 50%;\n",
              "    cursor: pointer;\n",
              "    display: none;\n",
              "    fill: var(--fill-color);\n",
              "    height: 32px;\n",
              "    padding: 0;\n",
              "    width: 32px;\n",
              "  }\n",
              "\n",
              "  .colab-df-quickchart:hover {\n",
              "    background-color: var(--hover-bg-color);\n",
              "    box-shadow: 0 1px 2px rgba(60, 64, 67, 0.3), 0 1px 3px 1px rgba(60, 64, 67, 0.15);\n",
              "    fill: var(--button-hover-fill-color);\n",
              "  }\n",
              "\n",
              "  .colab-df-quickchart-complete:disabled,\n",
              "  .colab-df-quickchart-complete:disabled:hover {\n",
              "    background-color: var(--disabled-bg-color);\n",
              "    fill: var(--disabled-fill-color);\n",
              "    box-shadow: none;\n",
              "  }\n",
              "\n",
              "  .colab-df-spinner {\n",
              "    border: 2px solid var(--fill-color);\n",
              "    border-color: transparent;\n",
              "    border-bottom-color: var(--fill-color);\n",
              "    animation:\n",
              "      spin 1s steps(1) infinite;\n",
              "  }\n",
              "\n",
              "  @keyframes spin {\n",
              "    0% {\n",
              "      border-color: transparent;\n",
              "      border-bottom-color: var(--fill-color);\n",
              "      border-left-color: var(--fill-color);\n",
              "    }\n",
              "    20% {\n",
              "      border-color: transparent;\n",
              "      border-left-color: var(--fill-color);\n",
              "      border-top-color: var(--fill-color);\n",
              "    }\n",
              "    30% {\n",
              "      border-color: transparent;\n",
              "      border-left-color: var(--fill-color);\n",
              "      border-top-color: var(--fill-color);\n",
              "      border-right-color: var(--fill-color);\n",
              "    }\n",
              "    40% {\n",
              "      border-color: transparent;\n",
              "      border-right-color: var(--fill-color);\n",
              "      border-top-color: var(--fill-color);\n",
              "    }\n",
              "    60% {\n",
              "      border-color: transparent;\n",
              "      border-right-color: var(--fill-color);\n",
              "    }\n",
              "    80% {\n",
              "      border-color: transparent;\n",
              "      border-right-color: var(--fill-color);\n",
              "      border-bottom-color: var(--fill-color);\n",
              "    }\n",
              "    90% {\n",
              "      border-color: transparent;\n",
              "      border-bottom-color: var(--fill-color);\n",
              "    }\n",
              "  }\n",
              "</style>\n",
              "\n",
              "  <script>\n",
              "    async function quickchart(key) {\n",
              "      const quickchartButtonEl =\n",
              "        document.querySelector('#' + key + ' button');\n",
              "      quickchartButtonEl.disabled = true;  // To prevent multiple clicks.\n",
              "      quickchartButtonEl.classList.add('colab-df-spinner');\n",
              "      try {\n",
              "        const charts = await google.colab.kernel.invokeFunction(\n",
              "            'suggestCharts', [key], {});\n",
              "      } catch (error) {\n",
              "        console.error('Error during call to suggestCharts:', error);\n",
              "      }\n",
              "      quickchartButtonEl.classList.remove('colab-df-spinner');\n",
              "      quickchartButtonEl.classList.add('colab-df-quickchart-complete');\n",
              "    }\n",
              "    (() => {\n",
              "      let quickchartButtonEl =\n",
              "        document.querySelector('#df-5ca58f35-fd0b-4b37-9d60-25551b1221ac button');\n",
              "      quickchartButtonEl.style.display =\n",
              "        google.colab.kernel.accessAllowed ? 'block' : 'none';\n",
              "    })();\n",
              "  </script>\n",
              "</div>\n",
              "    </div>\n",
              "  </div>\n"
            ],
            "application/vnd.google.colaboratory.intrinsic+json": {
              "type": "dataframe",
              "variable_name": "comm_df",
              "summary": "{\n  \"name\": \"comm_df\",\n  \"rows\": 2249,\n  \"fields\": [\n    {\n      \"column\": \"Comment title\",\n      \"properties\": {\n        \"dtype\": \"string\",\n        \"num_unique_values\": 1357,\n        \"samples\": [\n          \"inexcusably rude treatment\",\n          \"flight purchase \\u00a3\",\n          \"get stung euro\"\n        ],\n        \"semantic_type\": \"\",\n        \"description\": \"\"\n      }\n    },\n    {\n      \"column\": \"Comment\",\n      \"properties\": {\n        \"dtype\": \"string\",\n        \"num_unique_values\": 2249,\n        \"samples\": [\n          \"holiday mallorca fly jet hassle free problem back ryanair aircraft ryanair u felt old look like old military transport inside staff miserable especially board tried help grandma put hand luggage metal box sizer get uppity block passenger never fly ryanair\",\n          \"reservation ryanair flight fr fly oslo stansted september year try check website two hour time limit show reservation flight go airport anyway forced pay euro fee check several people talk wait line experience morning ryanair website contact ryanair customer service query number tell refund euro fee never fly ryanair\",\n          \"flew ryanair many time however common route fly kirltn recent flight snnsxf ryanair good airline opinion despite fly airport cia hear advertise airport capital city slovenia bratislava vienna handy use often never problem ryanair even hidden fee ticket seem cheap aer lingus aircraft clean still somewhat dark gloomy seat uncomfortable horrible latenight flight dawn try catch sleep however still possible snack drink board still reasonable price crew friendly toilet excellent bright clean ryanair get job do\"\n        ],\n        \"semantic_type\": \"\",\n        \"description\": \"\"\n      }\n    },\n    {\n      \"column\": \"Recommended\",\n      \"properties\": {\n        \"dtype\": \"category\",\n        \"num_unique_values\": 2,\n        \"samples\": [\n          \"no\",\n          \"yes\"\n        ],\n        \"semantic_type\": \"\",\n        \"description\": \"\"\n      }\n    }\n  ]\n}"
            }
          },
          "metadata": {},
          "execution_count": 118
        }
      ]
    },
    {
      "cell_type": "code",
      "source": [
        "# print(ryanair['Comment'][0])\n",
        "print(comm_df['Comment'][0])\n",
        "# print(stemmer(ryanair['Comment'][0]))"
      ],
      "metadata": {
        "colab": {
          "base_uri": "https://localhost:8080/"
        },
        "id": "hcLxZbYTooUc",
        "outputId": "99e7286d-456a-43a3-aafa-a48de6c6991e"
      },
      "execution_count": 119,
      "outputs": [
        {
          "output_type": "stream",
          "name": "stdout",
          "text": [
            "flew back faro london luton friday february ryanair direction bang time smooth flight direction always sit front space comfortable hour flight cabin crew polite efficient nice sense humour especially engagement especially ethan female colleague front section human touch unlike sometimes stand offish ba crew merit mark\n"
          ]
        }
      ]
    }
  ]
}